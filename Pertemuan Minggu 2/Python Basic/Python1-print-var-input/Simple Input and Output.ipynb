{
  "nbformat": 4,
  "nbformat_minor": 0,
  "metadata": {
    "colab": {
      "provenance": []
    },
    "kernelspec": {
      "name": "python3",
      "display_name": "Python 3"
    },
    "language_info": {
      "name": "python"
    }
  },
  "cells": [
    {
      "cell_type": "code",
      "execution_count": 1,
      "metadata": {
        "colab": {
          "base_uri": "https://localhost:8080/"
        },
        "id": "I0HhSoAAWpZ6",
        "outputId": "277f367c-2fe3-4475-ba68-7522a443ad81"
      },
      "outputs": [
        {
          "output_type": "stream",
          "name": "stdout",
          "text": [
            "Masukkan nilai a dalam float: 8\n",
            "Masukkan nilai b dalam float: 12\n",
            "\n",
            "Hasil penambahan: 20.0\n",
            "Hasil pengurangan: -4.0\n",
            "Hasil perkalian: 96.0\n",
            "Hasil pembagian: 0.6666666666666666\n",
            "\n",
            "Yeahhhh\n"
          ]
        }
      ],
      "source": [
        "def main():\n",
        "    # Input from the user\n",
        "\n",
        "    a = float(input(\"Masukkan nilai a dalam float: \"))\n",
        "    b = float(input(\"Masukkan nilai b dalam float: \"))\n",
        "\n",
        "    # Addition\n",
        "    addition = a + b\n",
        "\n",
        "    # Subtraction\n",
        "    subtraction = a - b\n",
        "\n",
        "    # Multiplication\n",
        "    multiplication = a * b\n",
        "\n",
        "    # Division\n",
        "    division = a / b if b != 0 else \"Tidak dapat dibagi (b bukan nol)\"\n",
        "\n",
        "    # Output\n",
        "    print(\"\\nHasil penambahan:\", addition)\n",
        "    print(\"Hasil pengurangan:\", subtraction)\n",
        "    print(\"Hasil perkalian:\", multiplication)\n",
        "    print(\"Hasil pembagian:\", division)\n",
        "\n",
        "    print(\"\\nYeahhhh\")\n",
        "\n",
        "if __name__ == \"__main__\":\n",
        "    main()"
      ]
    }
  ]
}
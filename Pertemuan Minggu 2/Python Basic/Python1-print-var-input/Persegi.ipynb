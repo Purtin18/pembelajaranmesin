{
  "nbformat": 4,
  "nbformat_minor": 0,
  "metadata": {
    "colab": {
      "provenance": []
    },
    "kernelspec": {
      "name": "python3",
      "display_name": "Python 3"
    },
    "language_info": {
      "name": "python"
    }
  },
  "cells": [
    {
      "cell_type": "code",
      "source": [
        "print(\"+\" + 20*\"-\" + \"+\")\n",
        "print((\"|\" + 20*\" \" + \"|\\n\") * 10, end=\"\")\n",
        "print(\"+\" + 20*\"-\" + \"+\")"
      ],
      "metadata": {
        "id": "OUxU5vOHYjsg",
        "outputId": "a3ed517b-cf5e-4591-cb7c-5227e0f59f8a",
        "colab": {
          "base_uri": "https://localhost:8080/"
        }
      },
      "execution_count": 2,
      "outputs": [
        {
          "output_type": "stream",
          "name": "stdout",
          "text": [
            "+--------------------+\n",
            "|                    |\n",
            "|                    |\n",
            "|                    |\n",
            "|                    |\n",
            "|                    |\n",
            "|                    |\n",
            "|                    |\n",
            "|                    |\n",
            "|                    |\n",
            "|                    |\n",
            "+--------------------+\n"
          ]
        }
      ]
    }
  ]
}
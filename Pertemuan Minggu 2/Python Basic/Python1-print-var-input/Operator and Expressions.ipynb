{
  "nbformat": 4,
  "nbformat_minor": 0,
  "metadata": {
    "colab": {
      "provenance": []
    },
    "kernelspec": {
      "name": "python3",
      "display_name": "Python 3"
    },
    "language_info": {
      "name": "python"
    }
  },
  "cells": [
    {
      "cell_type": "code",
      "source": [
        "import math\n",
        "\n",
        "def main():\n",
        "    # Input\n",
        "    x = float(input(\"Masukkan nilai x: \"))\n",
        "\n",
        "    # Perhitungan\n",
        "    y = (3*x**3 - 2*x**2 + 3*x - 1) / (4*x**2 + 2*x + 1)\n",
        "\n",
        "    # Output\n",
        "    print(\"x =\", x)\n",
        "    print(\"y =\", y)\n",
        "\n",
        "if __name__ == \"__main__\":\n",
        "    main()"
      ],
      "metadata": {
        "colab": {
          "base_uri": "https://localhost:8080/"
        },
        "id": "lTTz7-lBZ9ES",
        "outputId": "5942b19c-d35a-4d5e-943a-877b5f1940a9"
      },
      "execution_count": 3,
      "outputs": [
        {
          "output_type": "stream",
          "name": "stdout",
          "text": [
            "Masukkan nilai x: 1\n",
            "x = 1.0\n",
            "y = 0.42857142857142855\n"
          ]
        }
      ]
    }
  ]
}